
{
  "cell_type": "markdown",
  "metadata": {},
  "source": [
    "# Machine Learning Intern at Prasunet Company\n\n",
    "## Author: Pothumanchi Bhargav Narendra Raju\n\n",
    "### Prasunet_ML_05\n\n",
    "## Task 04: Food Recognition and Calorie Estimation using ResNet50\n\n",
    "### Project Overview\n",
    "This project aims to develop a model that can accurately recognize food items from images and estimate their calorie content, enabling users to track their dietary intake and make informed food choices. The dataset used for this project is from Kaggle and contains various food images.\n",
    "### Dataset\n",
    "The dataset can be found on Kaggle: [Food-101](https://www.kaggle.com/dansbecker/food-101). It includes a comprehensive set of images representing different food items, captured under varying conditions.\n",
    "### Features Used\n",
    "The primary features used for this project are the images of food items. These images are processed and fed into the model to learn and classify different food items accurately, along with estimating their calorie content.\n",
    "### Model\n",
    "A ResNet50 model was employed to develop the food recognition and calorie estimation model. ResNet50 is particularly well-suited for image classification tasks due to its deep architecture and ability to capture intricate features in images.\n",
    "### Model Architecture\n",
    "Input Layer: Accepts the food images.\n",
    "Convolutional Layers: Extracts features from the images.\n",
    "Residual Blocks: Allows for deeper network construction by bypassing certain layers.\n",
    "Fully Connected Layers: Performs the classification based on the extracted features.\n",
    "Output Layer: Produces the final classification results for the food items and estimates their calorie content.\n",
    "### Training Evaluation\n",
    "The model was trained on the training set of food images and validated using a separate validation set. Various metrics such as accuracy, precision, and recall were used to evaluate the model's performance.\n",
    "### Results\n",
    "The food recognition and calorie estimation model achieved high accuracy in classifying different food items and estimating their calorie content. The results are documented and visualized in a Jupyter notebook (.ipynb file).\n",
    "### Repository Structure\n",
    "* **food-101/food-101**: Contains the dataset files.\n",
    "* **Prasunet_ML_04.ipynb**: Jupyter notebooks used for data exploration, preprocessing, model training, and evaluation.\n"
  ]
}
