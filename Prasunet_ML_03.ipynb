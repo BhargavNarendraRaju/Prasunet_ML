"cells": [
    {
      "cell_type": "markdown",
      "metadata": {},
      "source": [
        "Machine Learning Intern at Prasunet Company\n\n",
        "Prasunet_ML_03\n\n",
        "Task 03: Image Classification for Dogs vs. Cats using Support Vector Machines (SVM)\n\n",
        "## Project Overview\n",
        "This project aims to classify images of cats and dogs using a Support Vector Machine (SVM) algorithm. The dataset used for this project is from the Kaggle competition \"Dogs vs. Cats.\" The goal is to accurately classify images into either the \"cat\" or \"dog\" category.\n\n",
        "## Dataset\n",
        "The dataset can be found on Kaggle: [Dogs vs. Cats](https://www.kaggle.com/c/dogs-vs-cats/data). It contains a large number of images of cats and dogs, divided into training and test sets.\n\n",
        "## Features Used\n",
        "The primary features used for classification are pixel values of the images. Each image is preprocessed and resized to a standard dimension before being fed into the SVM model.\n\n",
        "## Model\n",
        "A Support Vector Machine (SVM) classifier was used to classify the images. The model was trained on the training data and evaluated on the test data to ensure its accuracy and generalizability.\n\n",
        "## Classification Results\n",
        "The classification results are displayed in a Jupyter notebook (.ipynb file) and provide insights into the model's performance, including accuracy, precision, recall, and visualizations of the classified images.\n\n",
        "## Repository Structure\n",
        "* **dogs-vs-cats1234**: Contains the dataset files.\n",
        "* **Prasunet_ML_03.ipynb**: Jupyter notebooks used for data exploration, preprocessing, model training, and evaluation.\n"
      ]
    },
    {
      "cell_type": "code",
      "execution_count": null,
      "metadata": {
        "execution": {
          "iopub.execute_input": "2024-07-13T14:13:44.663279Z",
          "iopub.status.busy": "2024-07-13T14:13:44.662906Z",
          "iopub.status.idle": "2024-07-13T14:13:48.771011Z",
          "shell.execute_reply": "2024-07-13T14:13:48.769958Z",
          "shell.execute_reply.started": "2024-07-13T14:13:44.663246Z"
        },
        "trusted": true,
        "id": "9w4r-G0jJ_cy"
      },
      "outputs": [],
      "source": [
        "import os\n",
        "import numpy as np\n",
        "from sklearn.svm import SVC\n",
        "from sklearn.metrics import classification_report, confusion_matrix\n",
        "import matplotlib.pyplot as plt\n",
        "from tqdm import tqdm\n",
        "import joblib\n",
        "from sklearn.model_selection import GridSearchCV\n",
        "import cv2\n",
        "import seaborn as sns\n",
        "import time\n",
        "from sklearn.decomposition import PCA\n",
        "from sklearn.pipeline import Pipeline\n",
        "from sklearn.model_selection import train_test_split"
      ]
    },
    {
      "cell_type": "code",
      "execution_count": null,
      "metadata": {
        "execution": {
          "iopub.execute_input": "2024-07-13T14:13:48.772710Z",
          "iopub.status.busy": "2024-07-13T14:13:48.772244Z",
          "iopub.status.idle": "2024-07-13T14:13:48.778183Z",
          "shell.execute_reply": "2024-07-13T14:13:48.777403Z",
          "shell.execute_reply.started": "2024-07-13T14:13:48.772666Z"
        },
        "trusted": true,
        "id": "w-Z2U2jeJ_cz"
      },
      "outputs": [],
      "source": [
        "folder_path = \"/kaggle/input/dogs-vs-cats1234\"\n",
        "os.makedirs(folder_path, exist_ok=True)\n",
        "\n",
        "# define path\n",
        "confusion_image_path = os.path.join(folder_path, 'confusion matrix.png')\n",
        "classification_file_path = os.path.join(folder_path, 'classification_report.txt')\n",
        "model_file_path = os.path.join(folder_path, \"svm_model.pkl\")\n",
        "\n",
        "# Path dataset\n",
        "dataset_dir = \"/kaggle/input/dogs-vs-cats1234\"\n",
        "train_dir = os.path.join(dataset_dir, \"train (1)/train\")\n",
        "test_dir = os.path.join(dataset_dir, \"test1 (1)/test1\")"
      ]
    },
    {
      "cell_type": "code",
      "execution_count": null,
      "metadata": {
        "execution": {
          "iopub.execute_input": "2024-07-13T14:13:48.780272Z",
          "iopub.status.busy": "2024-07-13T14:13:48.779948Z",
          "iopub.status.idle": "2024-07-13T14:16:19.307924Z",
          "shell.execute_reply": "2024-07-13T14:16:19.307102Z",
          "shell.execute_reply.started": "2024-07-13T14:13:48.780241Z"
        },
        "trusted": true,
        "id": "ZUWEircmJ_c0",
        "outputId": "2c16c2ee-9f81-4d93-8e4c-6507b91cbd88"
      },
      "outputs": [
        {
          "name": "stderr",
          "output_type": "stream",
          "text": [
            "Processing Train Images: 100%|██████████| 25000/25000 [02:30<00:00, 166.11it/s]\n"
          ]
        }
      ],
      "source": [
        "# load data, preprocessing data, and labeling\n",
        "# dog = 1, cat = 0\n",
        "train_images = os.listdir(train_dir)\n",
        "features = []\n",
        "labels = []\n",
        "image_size = (50, 50)\n",
        "\n",
        "# Proses train images\n",
        "for image in tqdm(train_images, desc=\"Processing Train Images\"):\n",
        "    if image[0:3] == 'cat' :\n",
        "        label = 0\n",
        "    else :\n",
        "        label = 1\n",
        "    image_read = cv2.imread(train_dir+\"/\"+image)\n",
        "    image_resized = cv2.resize(image_read, image_size)\n",
        "    image_normalized = image_resized / 255.0\n",
        "    image_flatten = image_normalized.flatten()\n",
        "    features.append(image_flatten)\n",
        "    labels.append(label)"
      ]
    },
    {
      "cell_type": "code",
      "execution_count": null,
      "metadata": {
        "execution": {
          "iopub.execute_input": "2024-07-13T14:16:19.309443Z",
          "iopub.status.busy": "2024-07-13T14:16:19.309004Z",
          "iopub.status.idle": "2024-07-13T14:16:19.780243Z",
          "shell.execute_reply": "2024-07-13T14:16:19.779443Z",
          "shell.execute_reply.started": "2024-07-13T14:16:19.309388Z"
        },
        "trusted": true,
        "id": "V9fgZebpJ_c0"
      },
      "outputs": [],
      "source": [
        "deltrain_imagesfeatures = np.asarray(features)\n",
        "labels = np.asarray(labels)\n",
        "\n",
        "# train test split\n",
        "X_train, X_test, y_train, y_test = train_test_split(features, labels, test_size=0.2, shuffle=True, random_state=42)"
      ]
    },
    {
      "cell_type": "code",
      "execution_count": null,
      "metadata": {
        "execution": {
          "iopub.execute_input": "2024-07-13T14:16:19.781614Z",
          "iopub.status.busy": "2024-07-13T14:16:19.781311Z",
          "iopub.status.idle": "2024-07-13T14:16:19.785257Z",
          "shell.execute_reply": "2024-07-13T14:16:19.784596Z",
          "shell.execute_reply.started": "2024-07-13T14:16:19.781586Z"
        },
        "trusted": true,
        "id": "pkiOZGw5J_c1"
      },
      "outputs": [],
      "source": [
        "del features\n",
        "del labels"
      ]
    },
    {
      "cell_type": "code",
      "execution_count": null,
      "metadata": {
        "execution": {
          "iopub.execute_input": "2024-07-13T14:16:19.786434Z",
          "iopub.status.busy": "2024-07-13T14:16:19.786181Z",
          "iopub.status.idle": "2024-07-13T14:16:19.805009Z",
          "shell.execute_reply": "2024-07-13T14:16:19.804259Z",
          "shell.execute_reply.started": "2024-07-13T14:16:19.786408Z"
        },
        "trusted": true,
        "id": "6xFk80ejJ_c1"
      },
      "outputs": [],
      "source": [
        "# PCA, SVM, & Pipeline\n",
        "n_components = 0.8\n",
        "pca = PCA(n_components=n_components)\n",
        "svm = SVC()\n",
        "pca = PCA(n_components=n_components, random_state=42)\n",
        "pipeline = Pipeline([\n",
        "    ('pca', pca),\n",
        "    ('svm', svm)\n",
        "])"
      ]
    },
    {
      "cell_type": "code",
      "execution_count": null,
      "metadata": {
        "execution": {
          "iopub.execute_input": "2024-07-13T14:16:19.806162Z",
          "iopub.status.busy": "2024-07-13T14:16:19.805909Z",
          "iopub.status.idle": "2024-07-13T14:16:19.814742Z",
          "shell.execute_reply": "2024-07-13T14:16:19.814049Z",
          "shell.execute_reply.started": "2024-07-13T14:16:19.806135Z"
        },
        "trusted": true,
        "id": "oL4UanD8J_c1"
      },
      "outputs": [],
      "source": [
        "param_grid = {\n",
        "    'pca__n_components': [2, 1, 0.9, 0.8],\n",
        "    'svm__kernel': ['linear', 'rbf', 'poly', 'sigmoid'],\n",
        "}"
      ]
    },
    {
      "cell_type": "code",
      "execution_count": null,
      "metadata": {
        "execution": {
          "iopub.execute_input": "2024-07-13T14:16:19.815858Z",
          "iopub.status.busy": "2024-07-13T14:16:19.815614Z",
          "iopub.status.idle": "2024-07-13T16:08:58.612948Z",
          "shell.execute_reply": "2024-07-13T16:08:58.611998Z",
          "shell.execute_reply.started": "2024-07-13T14:16:19.815832Z"
        },
        "trusted": true,
        "id": "4m0RtQd5J_c1",
        "outputId": "12bebad6-2879-466c-e7ce-42269a0e1cce"
      },
      "outputs": [
        {
          "name": "stdout",
          "output_type": "stream",
          "text": [
            "Fitting 3 folds for each of 16 candidates, totalling 48 fits\n",
            "[CV 1/3] END pca__n_components=2, svm__kernel=linear;, score=0.524 total time=  19.5s\n",
            "[CV 2/3] END pca__n_components=2, svm__kernel=linear;, score=0.525 total time=  17.8s\n",
            "[CV 3/3] END pca__n_components=2, svm__kernel=linear;, score=0.534 total time=  18.9s\n",
            "[CV 1/3] END pca__n_components=2, svm__kernel=rbf;, score=0.564 total time=  10.1s\n",
            "[CV 2/3] END pca__n_components=2, svm__kernel=rbf;, score=0.569 total time=  10.0s\n",
            "[CV 3/3] END pca__n_components=2, svm__kernel=rbf;, score=0.572 total time=  10.1s\n",
            "[CV 1/3] END pca__n_components=2, svm__kernel=poly;, score=0.490 total time=  10.0s\n",
            "[CV 2/3] END pca__n_components=2, svm__kernel=poly;, score=0.482 total time=   8.8s\n",
            "[CV 3/3] END pca__n_components=2, svm__kernel=poly;, score=0.483 total time=   9.5s\n",
            "[CV 1/3] END pca__n_components=2, svm__kernel=sigmoid;, score=0.491 total time=   9.6s\n",
            "[CV 2/3] END pca__n_components=2, svm__kernel=sigmoid;, score=0.502 total time=  10.0s\n",
            "[CV 3/3] END pca__n_components=2, svm__kernel=sigmoid;, score=0.501 total time=   9.8s\n",
            "[CV 1/3] END pca__n_components=1, svm__kernel=linear;, score=0.512 total time=  11.2s\n",
            "[CV 2/3] END pca__n_components=1, svm__kernel=linear;, score=0.520 total time=  11.9s\n",
            "[CV 3/3] END pca__n_components=1, svm__kernel=linear;, score=0.514 total time=  10.1s\n",
            "[CV 1/3] END pca__n_components=1, svm__kernel=rbf;, score=0.528 total time=  10.6s\n",
            "[CV 2/3] END pca__n_components=1, svm__kernel=rbf;, score=0.525 total time=  10.4s\n",
            "[CV 3/3] END pca__n_components=1, svm__kernel=rbf;, score=0.524 total time=  10.7s\n",
            "[CV 1/3] END pca__n_components=1, svm__kernel=poly;, score=0.500 total time=   9.9s\n",
            "[CV 2/3] END pca__n_components=1, svm__kernel=poly;, score=0.503 total time=   8.4s\n",
            "[CV 3/3] END pca__n_components=1, svm__kernel=poly;, score=0.499 total time=   9.1s\n",
            "[CV 1/3] END pca__n_components=1, svm__kernel=sigmoid;, score=0.494 total time=   9.2s\n",
            "[CV 2/3] END pca__n_components=1, svm__kernel=sigmoid;, score=0.506 total time=   9.2s\n",
            "[CV 3/3] END pca__n_components=1, svm__kernel=sigmoid;, score=0.498 total time=   9.2s\n",
            "[CV 1/3] END pca__n_components=0.9, svm__kernel=linear;, score=0.599 total time=13.3min\n",
            "[CV 2/3] END pca__n_components=0.9, svm__kernel=linear;, score=0.607 total time=12.9min\n",
            "[CV 3/3] END pca__n_components=0.9, svm__kernel=linear;, score=0.615 total time=13.3min\n",
            "[CV 1/3] END pca__n_components=0.9, svm__kernel=rbf;, score=0.679 total time= 3.5min\n",
            "[CV 2/3] END pca__n_components=0.9, svm__kernel=rbf;, score=0.678 total time= 3.3min\n",
            "[CV 3/3] END pca__n_components=0.9, svm__kernel=rbf;, score=0.678 total time= 3.4min\n",
            "[CV 1/3] END pca__n_components=0.9, svm__kernel=poly;, score=0.608 total time= 3.1min\n",
            "[CV 2/3] END pca__n_components=0.9, svm__kernel=poly;, score=0.606 total time= 3.1min\n",
            "[CV 3/3] END pca__n_components=0.9, svm__kernel=poly;, score=0.602 total time= 3.1min\n",
            "[CV 1/3] END pca__n_components=0.9, svm__kernel=sigmoid;, score=0.522 total time= 2.7min\n",
            "[CV 2/3] END pca__n_components=0.9, svm__kernel=sigmoid;, score=0.527 total time= 2.7min\n",
            "[CV 3/3] END pca__n_components=0.9, svm__kernel=sigmoid;, score=0.516 total time= 2.7min\n",
            "[CV 1/3] END pca__n_components=0.8, svm__kernel=linear;, score=0.585 total time= 5.3min\n",
            "[CV 2/3] END pca__n_components=0.8, svm__kernel=linear;, score=0.583 total time= 5.6min\n",
            "[CV 3/3] END pca__n_components=0.8, svm__kernel=linear;, score=0.596 total time= 5.3min\n",
            "[CV 1/3] END pca__n_components=0.8, svm__kernel=rbf;, score=0.663 total time= 2.4min\n",
            "[CV 2/3] END pca__n_components=0.8, svm__kernel=rbf;, score=0.664 total time= 2.4min\n",
            "[CV 3/3] END pca__n_components=0.8, svm__kernel=rbf;, score=0.669 total time= 2.4min\n",
            "[CV 1/3] END pca__n_components=0.8, svm__kernel=poly;, score=0.598 total time= 2.4min\n",
            "[CV 2/3] END pca__n_components=0.8, svm__kernel=poly;, score=0.597 total time= 2.4min\n",
            "[CV 3/3] END pca__n_components=0.8, svm__kernel=poly;, score=0.589 total time= 2.4min\n",
            "[CV 1/3] END pca__n_components=0.8, svm__kernel=sigmoid;, score=0.518 total time= 2.3min\n",
            "[CV 2/3] END pca__n_components=0.8, svm__kernel=sigmoid;, score=0.522 total time= 2.3min\n",
            "[CV 3/3] END pca__n_components=0.8, svm__kernel=sigmoid;, score=0.511 total time= 2.4min\n"
          ]
        }
      ],
      "source": [
        "# Hitung waktu training\n",
        "start_time = time.time()\n",
        "\n",
        "grid_search = GridSearchCV(pipeline, param_grid, cv=3, verbose=4)\n",
        "grid_search.fit(X_train, y_train)\n",
        "\n",
        "# Hitung waktu training\n",
        "end_time = time.time()"
      ]
    },
    {
      "cell_type": "markdown",
      "metadata": {
        "id": "G3j50O5hJ_c1"
      },
      "source": []
    },
    {
      "cell_type": "code",
      "execution_count": null,
      "metadata": {
        "execution": {
          "iopub.execute_input": "2024-07-13T16:08:58.615762Z",
          "iopub.status.busy": "2024-07-13T16:08:58.615434Z",
          "iopub.status.idle": "2024-07-13T16:08:58.633595Z",
          "shell.execute_reply": "2024-07-13T16:08:58.632977Z",
          "shell.execute_reply.started": "2024-07-13T16:08:58.615730Z"
        },
        "trusted": true,
        "id": "hpexXJBJJ_c2"
      },
      "outputs": [],
      "source": [
        "del X_train\n",
        "del y_train"
      ]
    },
    {
      "cell_type": "code",
      "execution_count": null,
      "metadata": {
        "execution": {
          "iopub.execute_input": "2024-07-13T16:08:58.634933Z",
          "iopub.status.busy": "2024-07-13T16:08:58.634661Z",
          "iopub.status.idle": "2024-07-13T16:08:58.645919Z",
          "shell.execute_reply": "2024-07-13T16:08:58.645202Z",
          "shell.execute_reply.started": "2024-07-13T16:08:58.634902Z"
        },
        "trusted": true,
        "id": "MggWXVW6J_c2",
        "outputId": "6d3ce2df-e03b-41ea-def5-aa37b1f9677e"
      },
      "outputs": [
        {
          "name": "stdout",
          "output_type": "stream",
          "text": [
            "Best Parameters:  {'pca__n_components': 0.9, 'svm__kernel': 'rbf'}\n",
            "Best Score:  0.6779999808890445\n"
          ]
        }
      ],
      "source": [
        "# Mendapatkan model terbaik dan parameter terbaik\n",
        "best_pipeline = grid_search.best_estimator_\n",
        "best_params = grid_search.best_params_\n",
        "best_score = grid_search.best_score_\n",
        "\n",
        "print(\"Best Parameters: \", best_params)\n",
        "print(\"Best Score: \", best_score)"
      ]
    },
    {
      "cell_type": "code",
      "execution_count": null,
      "metadata": {
        "execution": {
          "iopub.execute_input": "2024-07-13T16:08:58.647184Z",
          "iopub.status.busy": "2024-07-13T16:08:58.646921Z",
          "iopub.status.idle": "2024-07-13T16:09:31.941183Z",
          "shell.execute_reply": "2024-07-13T16:09:31.940412Z",
          "shell.execute_reply.started": "2024-07-13T16:08:58.647158Z"
        },
        "trusted": true,
        "id": "4qkfS30ZJ_c3",
        "outputId": "ff1afdfd-7bad-409d-dc22-299343e9670a"
      },
      "outputs": [
        {
          "name": "stdout",
          "output_type": "stream",
          "text": [
            "Accuracy: 0.6724\n"
          ]
        }
      ],
      "source": [
        "# Evaluation on test dataset\n",
        "accuracy = best_pipeline.score(X_test, y_test)\n",
        "print(\"Accuracy:\", accuracy)"
      ]
    },
    {
      "cell_type": "code",
      "execution_count": null,
      "metadata": {
        "id": "UAao_42BJ_c3"
      },
      "outputs": [],
      "source": []
    },
    {
      "cell_type": "code",
      "execution_count": null,
      "metadata": {
        "execution": {
          "iopub.execute_input": "2024-07-13T16:15:11.540007Z",
          "iopub.status.busy": "2024-07-13T16:15:11.539584Z",
          "iopub.status.idle": "2024-07-13T16:15:45.848008Z",
          "shell.execute_reply": "2024-07-13T16:15:45.846869Z",
          "shell.execute_reply.started": "2024-07-13T16:15:11.539974Z"
        },
        "trusted": true,
        "id": "1SWVRTquJ_c3",
        "outputId": "870ca0e0-c192-48df-80cc-f68518ea36c8"
      },
      "outputs": [
        {
          "name": "stdout",
          "output_type": "stream",
          "text": [
            "Classification Report:\n",
            "               precision    recall  f1-score   support\n",
            "\n",
            "         Cat       0.67      0.68      0.67      2501\n",
            "         Dog       0.67      0.67      0.67      2499\n",
            "\n",
            "    accuracy                           0.67      5000\n",
            "   macro avg       0.67      0.67      0.67      5000\n",
            "weighted avg       0.67      0.67      0.67      5000\n",
            "\n"
          ]
        },
        {
          "ename": "OSError",
          "evalue": "[Errno 30] Read-only file system: '/kaggle/input/dogs-vs-cats1234/classification_report.txt'",
          "output_type": "error",
          "traceback": [
            "\u001b[0;31m---------------------------------------------------------------------------\u001b[0m",
            "\u001b[0;31mOSError\u001b[0m                                   Traceback (most recent call last)",
            "Cell \u001b[0;32mIn[17], line 10\u001b[0m\n\u001b[1;32m      8\u001b[0m classification_rep \u001b[38;5;241m=\u001b[39m classification_report(y_test, y_pred, target_names\u001b[38;5;241m=\u001b[39mtarget_names)\n\u001b[1;32m      9\u001b[0m \u001b[38;5;28mprint\u001b[39m(\u001b[38;5;124m\"\u001b[39m\u001b[38;5;124mClassification Report:\u001b[39m\u001b[38;5;130;01m\\n\u001b[39;00m\u001b[38;5;124m\"\u001b[39m, classification_rep)\n\u001b[0;32m---> 10\u001b[0m \u001b[38;5;28;01mwith\u001b[39;00m \u001b[38;5;28;43mopen\u001b[39;49m\u001b[43m(\u001b[49m\u001b[43mclassification_file_path\u001b[49m\u001b[43m,\u001b[49m\u001b[43m \u001b[49m\u001b[38;5;124;43m'\u001b[39;49m\u001b[38;5;124;43mw\u001b[39;49m\u001b[38;5;124;43m'\u001b[39;49m\u001b[43m)\u001b[49m \u001b[38;5;28;01mas\u001b[39;00m file:\n\u001b[1;32m     11\u001b[0m     file\u001b[38;5;241m.\u001b[39mwrite(classification_rep)\n",
            "File \u001b[0;32m/usr/local/lib/python3.10/site-packages/IPython/core/interactiveshell.py:324\u001b[0m, in \u001b[0;36m_modified_open\u001b[0;34m(file, *args, **kwargs)\u001b[0m\n\u001b[1;32m    317\u001b[0m \u001b[38;5;28;01mif\u001b[39;00m file \u001b[38;5;129;01min\u001b[39;00m {\u001b[38;5;241m0\u001b[39m, \u001b[38;5;241m1\u001b[39m, \u001b[38;5;241m2\u001b[39m}:\n\u001b[1;32m    318\u001b[0m     \u001b[38;5;28;01mraise\u001b[39;00m \u001b[38;5;167;01mValueError\u001b[39;00m(\n\u001b[1;32m    319\u001b[0m         \u001b[38;5;124mf\u001b[39m\u001b[38;5;124m\"\u001b[39m\u001b[38;5;124mIPython won\u001b[39m\u001b[38;5;124m'\u001b[39m\u001b[38;5;124mt let you open fd=\u001b[39m\u001b[38;5;132;01m{\u001b[39;00mfile\u001b[38;5;132;01m}\u001b[39;00m\u001b[38;5;124m by default \u001b[39m\u001b[38;5;124m\"\u001b[39m\n\u001b[1;32m    320\u001b[0m         \u001b[38;5;124m\"\u001b[39m\u001b[38;5;124mas it is likely to crash IPython. If you know what you are doing, \u001b[39m\u001b[38;5;124m\"\u001b[39m\n\u001b[1;32m    321\u001b[0m         \u001b[38;5;124m\"\u001b[39m\u001b[38;5;124myou can use builtins\u001b[39m\u001b[38;5;124m'\u001b[39m\u001b[38;5;124m open.\u001b[39m\u001b[38;5;124m\"\u001b[39m\n\u001b[1;32m    322\u001b[0m     )\n\u001b[0;32m--> 324\u001b[0m \u001b[38;5;28;01mreturn\u001b[39;00m \u001b[43mio_open\u001b[49m\u001b[43m(\u001b[49m\u001b[43mfile\u001b[49m\u001b[43m,\u001b[49m\u001b[43m \u001b[49m\u001b[38;5;241;43m*\u001b[39;49m\u001b[43margs\u001b[49m\u001b[43m,\u001b[49m\u001b[43m \u001b[49m\u001b[38;5;241;43m*\u001b[39;49m\u001b[38;5;241;43m*\u001b[39;49m\u001b[43mkwargs\u001b[49m\u001b[43m)\u001b[49m\n",
            "\u001b[0;31mOSError\u001b[0m: [Errno 30] Read-only file system: '/kaggle/input/dogs-vs-cats1234/classification_report.txt'"
          ]
        }
      ],
      "source": [
        "y_pred = best_pipeline.predict(X_test)\n",
        "folderpath='/kaggle/working/'\n",
        "confusion_image_path = os.path.join(folder_path, 'confusion matrix.png')\n",
        "classification_file_path = os.path.join(folder_path, 'classification_report.txt')\n",
        "model_file_path = os.path.join(folder_path, \"svm_model.pkl\")\n",
        "# classification report\n",
        "target_names = ['Cat', 'Dog']\n",
        "classification_rep = classification_report(y_test, y_pred, target_names=target_names)\n",
        "print(\"Classification Report:\\n\", classification_rep)\n"
      ]
    },
    {
      "cell_type": "code",
      "execution_count": null,
      "metadata": {
        "execution": {
          "iopub.execute_input": "2024-07-13T16:11:01.427650Z",
          "iopub.status.busy": "2024-07-13T16:11:01.426683Z",
          "iopub.status.idle": "2024-07-13T16:11:02.856560Z",
          "shell.execute_reply": "2024-07-13T16:11:02.855355Z",
          "shell.execute_reply.started": "2024-07-13T16:11:01.427615Z"
        },
        "trusted": true,
        "id": "8WLv5OHqJ_c3",
        "outputId": "aa34e174-ea3c-4e3e-86e0-6809519b0ffa"
      },
      "outputs": [
        {
          "ename": "OSError",
          "evalue": "[Errno 30] Read-only file system: '/kaggle/input/dogs-vs-cats1234/confusion matrix.png'",
          "output_type": "error",
          "traceback": [
            "\u001b[0;31m---------------------------------------------------------------------------\u001b[0m",
            "\u001b[0;31mOSError\u001b[0m                                   Traceback (most recent call last)",
            "Cell \u001b[0;32mIn[14], line 6\u001b[0m\n\u001b[1;32m      4\u001b[0m plt\u001b[38;5;241m.\u001b[39mxlabel(\u001b[38;5;124m'\u001b[39m\u001b[38;5;124mPredicted labels\u001b[39m\u001b[38;5;124m'\u001b[39m)\n\u001b[1;32m      5\u001b[0m plt\u001b[38;5;241m.\u001b[39mylabel(\u001b[38;5;124m'\u001b[39m\u001b[38;5;124mTrue labels\u001b[39m\u001b[38;5;124m'\u001b[39m)\n\u001b[0;32m----> 6\u001b[0m \u001b[43mplt\u001b[49m\u001b[38;5;241;43m.\u001b[39;49m\u001b[43msavefig\u001b[49m\u001b[43m(\u001b[49m\u001b[43mconfusion_image_path\u001b[49m\u001b[43m)\u001b[49m\n\u001b[1;32m      7\u001b[0m plt\u001b[38;5;241m.\u001b[39mshow()\n",
            "File \u001b[0;32m/usr/local/lib/python3.10/site-packages/matplotlib/pyplot.py:1228\u001b[0m, in \u001b[0;36msavefig\u001b[0;34m(*args, **kwargs)\u001b[0m\n\u001b[1;32m   1225\u001b[0m fig \u001b[38;5;241m=\u001b[39m gcf()\n\u001b[1;32m   1226\u001b[0m \u001b[38;5;66;03m# savefig default implementation has no return, so mypy is unhappy\u001b[39;00m\n\u001b[1;32m   1227\u001b[0m \u001b[38;5;66;03m# presumably this is here because subclasses can return?\u001b[39;00m\n\u001b[0;32m-> 1228\u001b[0m res \u001b[38;5;241m=\u001b[39m \u001b[43mfig\u001b[49m\u001b[38;5;241;43m.\u001b[39;49m\u001b[43msavefig\u001b[49m\u001b[43m(\u001b[49m\u001b[38;5;241;43m*\u001b[39;49m\u001b[43margs\u001b[49m\u001b[43m,\u001b[49m\u001b[43m \u001b[49m\u001b[38;5;241;43m*\u001b[39;49m\u001b[38;5;241;43m*\u001b[39;49m\u001b[43mkwargs\u001b[49m\u001b[43m)\u001b[49m  \u001b[38;5;66;03m# type: ignore[func-returns-value]\u001b[39;00m\n\u001b[1;32m   1229\u001b[0m fig\u001b[38;5;241m.\u001b[39mcanvas\u001b[38;5;241m.\u001b[39mdraw_idle()  \u001b[38;5;66;03m# Need this if 'transparent=True', to reset colors.\u001b[39;00m\n\u001b[1;32m   1230\u001b[0m \u001b[38;5;28;01mreturn\u001b[39;00m res\n",
            "File \u001b[0;32m/usr/local/lib/python3.10/site-packages/matplotlib/figure.py:3395\u001b[0m, in \u001b[0;36mFigure.savefig\u001b[0;34m(self, fname, transparent, **kwargs)\u001b[0m\n\u001b[1;32m   3393\u001b[0m     \u001b[38;5;28;01mfor\u001b[39;00m ax \u001b[38;5;129;01min\u001b[39;00m \u001b[38;5;28mself\u001b[39m\u001b[38;5;241m.\u001b[39maxes:\n\u001b[1;32m   3394\u001b[0m         _recursively_make_axes_transparent(stack, ax)\n\u001b[0;32m-> 3395\u001b[0m \u001b[38;5;28;43mself\u001b[39;49m\u001b[38;5;241;43m.\u001b[39;49m\u001b[43mcanvas\u001b[49m\u001b[38;5;241;43m.\u001b[39;49m\u001b[43mprint_figure\u001b[49m\u001b[43m(\u001b[49m\u001b[43mfname\u001b[49m\u001b[43m,\u001b[49m\u001b[43m \u001b[49m\u001b[38;5;241;43m*\u001b[39;49m\u001b[38;5;241;43m*\u001b[39;49m\u001b[43mkwargs\u001b[49m\u001b[43m)\u001b[49m\n",
            "File \u001b[0;32m/usr/local/lib/python3.10/site-packages/matplotlib/backend_bases.py:2204\u001b[0m, in \u001b[0;36mFigureCanvasBase.print_figure\u001b[0;34m(self, filename, dpi, facecolor, edgecolor, orientation, format, bbox_inches, pad_inches, bbox_extra_artists, backend, **kwargs)\u001b[0m\n\u001b[1;32m   2200\u001b[0m \u001b[38;5;28;01mtry\u001b[39;00m:\n\u001b[1;32m   2201\u001b[0m     \u001b[38;5;66;03m# _get_renderer may change the figure dpi (as vector formats\u001b[39;00m\n\u001b[1;32m   2202\u001b[0m     \u001b[38;5;66;03m# force the figure dpi to 72), so we need to set it again here.\u001b[39;00m\n\u001b[1;32m   2203\u001b[0m     \u001b[38;5;28;01mwith\u001b[39;00m cbook\u001b[38;5;241m.\u001b[39m_setattr_cm(\u001b[38;5;28mself\u001b[39m\u001b[38;5;241m.\u001b[39mfigure, dpi\u001b[38;5;241m=\u001b[39mdpi):\n\u001b[0;32m-> 2204\u001b[0m         result \u001b[38;5;241m=\u001b[39m \u001b[43mprint_method\u001b[49m\u001b[43m(\u001b[49m\n\u001b[1;32m   2205\u001b[0m \u001b[43m            \u001b[49m\u001b[43mfilename\u001b[49m\u001b[43m,\u001b[49m\n\u001b[1;32m   2206\u001b[0m \u001b[43m            \u001b[49m\u001b[43mfacecolor\u001b[49m\u001b[38;5;241;43m=\u001b[39;49m\u001b[43mfacecolor\u001b[49m\u001b[43m,\u001b[49m\n\u001b[1;32m   2207\u001b[0m \u001b[43m            \u001b[49m\u001b[43medgecolor\u001b[49m\u001b[38;5;241;43m=\u001b[39;49m\u001b[43medgecolor\u001b[49m\u001b[43m,\u001b[49m\n\u001b[1;32m   2208\u001b[0m \u001b[43m            \u001b[49m\u001b[43morientation\u001b[49m\u001b[38;5;241;43m=\u001b[39;49m\u001b[43morientation\u001b[49m\u001b[43m,\u001b[49m\n\u001b[1;32m   2209\u001b[0m \u001b[43m            \u001b[49m\u001b[43mbbox_inches_restore\u001b[49m\u001b[38;5;241;43m=\u001b[39;49m\u001b[43m_bbox_inches_restore\u001b[49m\u001b[43m,\u001b[49m\n\u001b[1;32m   2210\u001b[0m \u001b[43m            \u001b[49m\u001b[38;5;241;43m*\u001b[39;49m\u001b[38;5;241;43m*\u001b[39;49m\u001b[43mkwargs\u001b[49m\u001b[43m)\u001b[49m\n\u001b[1;32m   2211\u001b[0m \u001b[38;5;28;01mfinally\u001b[39;00m:\n\u001b[1;32m   2212\u001b[0m     \u001b[38;5;28;01mif\u001b[39;00m bbox_inches \u001b[38;5;129;01mand\u001b[39;00m restore_bbox:\n",
            "File \u001b[0;32m/usr/local/lib/python3.10/site-packages/matplotlib/backend_bases.py:2054\u001b[0m, in \u001b[0;36mFigureCanvasBase._switch_canvas_and_return_print_method.<locals>.<lambda>\u001b[0;34m(*args, **kwargs)\u001b[0m\n\u001b[1;32m   2050\u001b[0m     optional_kws \u001b[38;5;241m=\u001b[39m {  \u001b[38;5;66;03m# Passed by print_figure for other renderers.\u001b[39;00m\n\u001b[1;32m   2051\u001b[0m         \u001b[38;5;124m\"\u001b[39m\u001b[38;5;124mdpi\u001b[39m\u001b[38;5;124m\"\u001b[39m, \u001b[38;5;124m\"\u001b[39m\u001b[38;5;124mfacecolor\u001b[39m\u001b[38;5;124m\"\u001b[39m, \u001b[38;5;124m\"\u001b[39m\u001b[38;5;124medgecolor\u001b[39m\u001b[38;5;124m\"\u001b[39m, \u001b[38;5;124m\"\u001b[39m\u001b[38;5;124morientation\u001b[39m\u001b[38;5;124m\"\u001b[39m,\n\u001b[1;32m   2052\u001b[0m         \u001b[38;5;124m\"\u001b[39m\u001b[38;5;124mbbox_inches_restore\u001b[39m\u001b[38;5;124m\"\u001b[39m}\n\u001b[1;32m   2053\u001b[0m     skip \u001b[38;5;241m=\u001b[39m optional_kws \u001b[38;5;241m-\u001b[39m {\u001b[38;5;241m*\u001b[39minspect\u001b[38;5;241m.\u001b[39msignature(meth)\u001b[38;5;241m.\u001b[39mparameters}\n\u001b[0;32m-> 2054\u001b[0m     print_method \u001b[38;5;241m=\u001b[39m functools\u001b[38;5;241m.\u001b[39mwraps(meth)(\u001b[38;5;28;01mlambda\u001b[39;00m \u001b[38;5;241m*\u001b[39margs, \u001b[38;5;241m*\u001b[39m\u001b[38;5;241m*\u001b[39mkwargs: \u001b[43mmeth\u001b[49m\u001b[43m(\u001b[49m\n\u001b[1;32m   2055\u001b[0m \u001b[43m        \u001b[49m\u001b[38;5;241;43m*\u001b[39;49m\u001b[43margs\u001b[49m\u001b[43m,\u001b[49m\u001b[43m \u001b[49m\u001b[38;5;241;43m*\u001b[39;49m\u001b[38;5;241;43m*\u001b[39;49m\u001b[43m{\u001b[49m\u001b[43mk\u001b[49m\u001b[43m:\u001b[49m\u001b[43m \u001b[49m\u001b[43mv\u001b[49m\u001b[43m \u001b[49m\u001b[38;5;28;43;01mfor\u001b[39;49;00m\u001b[43m \u001b[49m\u001b[43mk\u001b[49m\u001b[43m,\u001b[49m\u001b[43m \u001b[49m\u001b[43mv\u001b[49m\u001b[43m \u001b[49m\u001b[38;5;129;43;01min\u001b[39;49;00m\u001b[43m \u001b[49m\u001b[43mkwargs\u001b[49m\u001b[38;5;241;43m.\u001b[39;49m\u001b[43mitems\u001b[49m\u001b[43m(\u001b[49m\u001b[43m)\u001b[49m\u001b[43m \u001b[49m\u001b[38;5;28;43;01mif\u001b[39;49;00m\u001b[43m \u001b[49m\u001b[43mk\u001b[49m\u001b[43m \u001b[49m\u001b[38;5;129;43;01mnot\u001b[39;49;00m\u001b[43m \u001b[49m\u001b[38;5;129;43;01min\u001b[39;49;00m\u001b[43m \u001b[49m\u001b[43mskip\u001b[49m\u001b[43m}\u001b[49m\u001b[43m)\u001b[49m)\n\u001b[1;32m   2056\u001b[0m \u001b[38;5;28;01melse\u001b[39;00m:  \u001b[38;5;66;03m# Let third-parties do as they see fit.\u001b[39;00m\n\u001b[1;32m   2057\u001b[0m     print_method \u001b[38;5;241m=\u001b[39m meth\n",
            "File \u001b[0;32m/usr/local/lib/python3.10/site-packages/matplotlib/backends/backend_agg.py:496\u001b[0m, in \u001b[0;36mFigureCanvasAgg.print_png\u001b[0;34m(self, filename_or_obj, metadata, pil_kwargs)\u001b[0m\n\u001b[1;32m    449\u001b[0m \u001b[38;5;28;01mdef\u001b[39;00m \u001b[38;5;21mprint_png\u001b[39m(\u001b[38;5;28mself\u001b[39m, filename_or_obj, \u001b[38;5;241m*\u001b[39m, metadata\u001b[38;5;241m=\u001b[39m\u001b[38;5;28;01mNone\u001b[39;00m, pil_kwargs\u001b[38;5;241m=\u001b[39m\u001b[38;5;28;01mNone\u001b[39;00m):\n\u001b[1;32m    450\u001b[0m \u001b[38;5;250m    \u001b[39m\u001b[38;5;124;03m\"\"\"\u001b[39;00m\n\u001b[1;32m    451\u001b[0m \u001b[38;5;124;03m    Write the figure to a PNG file.\u001b[39;00m\n\u001b[1;32m    452\u001b[0m \n\u001b[0;32m   (...)\u001b[0m\n\u001b[1;32m    494\u001b[0m \u001b[38;5;124;03m        *metadata*, including the default 'Software' key.\u001b[39;00m\n\u001b[1;32m    495\u001b[0m \u001b[38;5;124;03m    \"\"\"\u001b[39;00m\n\u001b[0;32m--> 496\u001b[0m     \u001b[38;5;28;43mself\u001b[39;49m\u001b[38;5;241;43m.\u001b[39;49m\u001b[43m_print_pil\u001b[49m\u001b[43m(\u001b[49m\u001b[43mfilename_or_obj\u001b[49m\u001b[43m,\u001b[49m\u001b[43m \u001b[49m\u001b[38;5;124;43m\"\u001b[39;49m\u001b[38;5;124;43mpng\u001b[39;49m\u001b[38;5;124;43m\"\u001b[39;49m\u001b[43m,\u001b[49m\u001b[43m \u001b[49m\u001b[43mpil_kwargs\u001b[49m\u001b[43m,\u001b[49m\u001b[43m \u001b[49m\u001b[43mmetadata\u001b[49m\u001b[43m)\u001b[49m\n",
            "File \u001b[0;32m/usr/local/lib/python3.10/site-packages/matplotlib/backends/backend_agg.py:445\u001b[0m, in \u001b[0;36mFigureCanvasAgg._print_pil\u001b[0;34m(self, filename_or_obj, fmt, pil_kwargs, metadata)\u001b[0m\n\u001b[1;32m    440\u001b[0m \u001b[38;5;250m\u001b[39m\u001b[38;5;124;03m\"\"\"\u001b[39;00m\n\u001b[1;32m    441\u001b[0m \u001b[38;5;124;03mDraw the canvas, then save it using `.image.imsave` (to which\u001b[39;00m\n\u001b[1;32m    442\u001b[0m \u001b[38;5;124;03m*pil_kwargs* and *metadata* are forwarded).\u001b[39;00m\n\u001b[1;32m    443\u001b[0m \u001b[38;5;124;03m\"\"\"\u001b[39;00m\n\u001b[1;32m    444\u001b[0m FigureCanvasAgg\u001b[38;5;241m.\u001b[39mdraw(\u001b[38;5;28mself\u001b[39m)\n\u001b[0;32m--> 445\u001b[0m \u001b[43mmpl\u001b[49m\u001b[38;5;241;43m.\u001b[39;49m\u001b[43mimage\u001b[49m\u001b[38;5;241;43m.\u001b[39;49m\u001b[43mimsave\u001b[49m\u001b[43m(\u001b[49m\n\u001b[1;32m    446\u001b[0m \u001b[43m    \u001b[49m\u001b[43mfilename_or_obj\u001b[49m\u001b[43m,\u001b[49m\u001b[43m \u001b[49m\u001b[38;5;28;43mself\u001b[39;49m\u001b[38;5;241;43m.\u001b[39;49m\u001b[43mbuffer_rgba\u001b[49m\u001b[43m(\u001b[49m\u001b[43m)\u001b[49m\u001b[43m,\u001b[49m\u001b[43m \u001b[49m\u001b[38;5;28;43mformat\u001b[39;49m\u001b[38;5;241;43m=\u001b[39;49m\u001b[43mfmt\u001b[49m\u001b[43m,\u001b[49m\u001b[43m \u001b[49m\u001b[43morigin\u001b[49m\u001b[38;5;241;43m=\u001b[39;49m\u001b[38;5;124;43m\"\u001b[39;49m\u001b[38;5;124;43mupper\u001b[39;49m\u001b[38;5;124;43m\"\u001b[39;49m\u001b[43m,\u001b[49m\n\u001b[1;32m    447\u001b[0m \u001b[43m    \u001b[49m\u001b[43mdpi\u001b[49m\u001b[38;5;241;43m=\u001b[39;49m\u001b[38;5;28;43mself\u001b[39;49m\u001b[38;5;241;43m.\u001b[39;49m\u001b[43mfigure\u001b[49m\u001b[38;5;241;43m.\u001b[39;49m\u001b[43mdpi\u001b[49m\u001b[43m,\u001b[49m\u001b[43m \u001b[49m\u001b[43mmetadata\u001b[49m\u001b[38;5;241;43m=\u001b[39;49m\u001b[43mmetadata\u001b[49m\u001b[43m,\u001b[49m\u001b[43m \u001b[49m\u001b[43mpil_kwargs\u001b[49m\u001b[38;5;241;43m=\u001b[39;49m\u001b[43mpil_kwargs\u001b[49m\u001b[43m)\u001b[49m\n",
            "File \u001b[0;32m/usr/local/lib/python3.10/site-packages/matplotlib/image.py:1676\u001b[0m, in \u001b[0;36mimsave\u001b[0;34m(fname, arr, vmin, vmax, cmap, format, origin, dpi, metadata, pil_kwargs)\u001b[0m\n\u001b[1;32m   1674\u001b[0m pil_kwargs\u001b[38;5;241m.\u001b[39msetdefault(\u001b[38;5;124m\"\u001b[39m\u001b[38;5;124mformat\u001b[39m\u001b[38;5;124m\"\u001b[39m, \u001b[38;5;28mformat\u001b[39m)\n\u001b[1;32m   1675\u001b[0m pil_kwargs\u001b[38;5;241m.\u001b[39msetdefault(\u001b[38;5;124m\"\u001b[39m\u001b[38;5;124mdpi\u001b[39m\u001b[38;5;124m\"\u001b[39m, (dpi, dpi))\n\u001b[0;32m-> 1676\u001b[0m \u001b[43mimage\u001b[49m\u001b[38;5;241;43m.\u001b[39;49m\u001b[43msave\u001b[49m\u001b[43m(\u001b[49m\u001b[43mfname\u001b[49m\u001b[43m,\u001b[49m\u001b[43m \u001b[49m\u001b[38;5;241;43m*\u001b[39;49m\u001b[38;5;241;43m*\u001b[39;49m\u001b[43mpil_kwargs\u001b[49m\u001b[43m)\u001b[49m\n",
            "File \u001b[0;32m/usr/local/lib/python3.10/site-packages/PIL/Image.py:2563\u001b[0m, in \u001b[0;36mImage.save\u001b[0;34m(self, fp, format, **params)\u001b[0m\n\u001b[1;32m   2561\u001b[0m         fp \u001b[38;5;241m=\u001b[39m builtins\u001b[38;5;241m.\u001b[39mopen(filename, \u001b[38;5;124m\"\u001b[39m\u001b[38;5;124mr+b\u001b[39m\u001b[38;5;124m\"\u001b[39m)\n\u001b[1;32m   2562\u001b[0m     \u001b[38;5;28;01melse\u001b[39;00m:\n\u001b[0;32m-> 2563\u001b[0m         fp \u001b[38;5;241m=\u001b[39m \u001b[43mbuiltins\u001b[49m\u001b[38;5;241;43m.\u001b[39;49m\u001b[43mopen\u001b[49m\u001b[43m(\u001b[49m\u001b[43mfilename\u001b[49m\u001b[43m,\u001b[49m\u001b[43m \u001b[49m\u001b[38;5;124;43m\"\u001b[39;49m\u001b[38;5;124;43mw+b\u001b[39;49m\u001b[38;5;124;43m\"\u001b[39;49m\u001b[43m)\u001b[49m\n\u001b[1;32m   2564\u001b[0m \u001b[38;5;28;01melse\u001b[39;00m:\n\u001b[1;32m   2565\u001b[0m     fp \u001b[38;5;241m=\u001b[39m cast(IO[\u001b[38;5;28mbytes\u001b[39m], fp)\n",
            "\u001b[0;31mOSError\u001b[0m: [Errno 30] Read-only file system: '/kaggle/input/dogs-vs-cats1234/confusion matrix.png'"
          ]
        },
        {
          "data": {
            "image/png": "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",
            "text/plain": [
              "<Figure size 640x480 with 2 Axes>"
            ]
          },
          "metadata": {},
          "output_type": "display_data"
        }
      ],
      "source": [
        "# Confusion matrix\n",
        "cm = confusion_matrix(y_test, y_pred)\n",
        "sns.heatmap(cm, annot=True, fmt=\"d\", cmap=\"Blues\")\n",
        "plt.xlabel('Predicted labels')\n",
        "plt.ylabel('True labels')\n",
        "\n",
        "plt.show()"
      ]
    },
    {
      "cell_type": "code",
      "execution_count": null,
      "metadata": {
        "id": "iXiKklWuJ_c3"
      },
      "outputs": [],
      "source": []
    },
    {
      "cell_type": "code",
      "execution_count": null,
      "metadata": {
        "id": "4_irS0KRJ_c3"
      },
      "outputs": [],
      "source": []
    }
  ],
  "metadata": {
    "kaggle": {
      "accelerator": "tpu1vmV38",
      "dataSources": [
        {
          "datasetId": 5382638,
          "sourceId": 8944993,
          "sourceType": "datasetVersion"
        }
      ],
      "dockerImageVersionId": 30748,
      "isGpuEnabled": false,
      "isInternetEnabled": true,
      "language": "python",
      "sourceType": "notebook"
    },
    "kernelspec": {
      "display_name": "Python 3",
      "language": "python",
      "name": "python3"
    },
    "language_info": {
      "codemirror_mode": {
        "name": "ipython",
        "version": 3
      },
      "file_extension": ".py",
      "mimetype": "text/x-python",
      "name": "python",
      "nbconvert_exporter": "python",
      "pygments_lexer": "ipython3",
      "version": "3.10.14"
    },
    "colab": {
      "provenance": []
    }
  },
  "nbformat": 4,
  "nbformat_minor": 0
}
